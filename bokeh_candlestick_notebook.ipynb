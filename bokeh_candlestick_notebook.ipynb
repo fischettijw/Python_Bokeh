{
 "cells": [
  {
   "cell_type": "code",
   "execution_count": 86,
   "source": [
    "# https://www.youtube.com/watch?v=hq9wx48pkXE"
   ],
   "outputs": [],
   "metadata": {}
  },
  {
   "cell_type": "code",
   "execution_count": 87,
   "source": [
    "import pandas as pd\r\n",
    "import yfinance as yf\r\n",
    "from math import pi\r\n",
    "import numpy as np"
   ],
   "outputs": [],
   "metadata": {}
  },
  {
   "cell_type": "code",
   "execution_count": 88,
   "source": [
    "from bokeh.plotting import figure, show\r\n",
    "from bokeh.io import output_notebook\r\n",
    "# output_notebook()   # needed for Notebook in-cell plots vs html"
   ],
   "outputs": [],
   "metadata": {}
  },
  {
   "cell_type": "markdown",
   "source": [],
   "metadata": {}
  },
  {
   "cell_type": "code",
   "execution_count": 89,
   "source": [
    "# stock_symbol = \"GM\"\r\n",
    "stock_symbol = \"^GSPC\"\r\n",
    "stock_ticker = yf.Ticker(stock_symbol)\r\n",
    "stock_short_name = stock_ticker.info['shortName']\r\n",
    "# data = yf.download(stock_symbol)        # ALL historical data\r\n",
    "# data = yf.download(stock_symbol, start=\"2007-03-01\", end=\"2013-03-01\")\r\n",
    "data = yf.download(stock_symbol, start=\"2020-01-01\", end=\"2021-09-25\")\r\n",
    "print(data.columns)\r\n",
    "print()\r\n",
    "print(data)"
   ],
   "outputs": [
    {
     "output_type": "stream",
     "name": "stdout",
     "text": [
      "[*********************100%***********************]  1 of 1 completed\n",
      "Index(['Open', 'High', 'Low', 'Close', 'Adj Close', 'Volume'], dtype='object')\n",
      "\n",
      "                   Open         High          Low        Close    Adj Close  \\\n",
      "Date                                                                          \n",
      "2020-01-02  3244.669922  3258.139893  3235.530029  3257.850098  3257.850098   \n",
      "2020-01-03  3226.360107  3246.149902  3222.340088  3234.850098  3234.850098   \n",
      "2020-01-06  3217.550049  3246.840088  3214.639893  3246.280029  3246.280029   \n",
      "2020-01-07  3241.860107  3244.909912  3232.429932  3237.179932  3237.179932   \n",
      "2020-01-08  3238.590088  3267.070068  3236.669922  3253.050049  3253.050049   \n",
      "...                 ...          ...          ...          ...          ...   \n",
      "2021-09-20  4402.950195  4402.950195  4305.910156  4357.729980  4357.729980   \n",
      "2021-09-21  4374.450195  4394.870117  4347.959961  4354.189941  4354.189941   \n",
      "2021-09-22  4367.430176  4416.750000  4367.430176  4395.640137  4395.640137   \n",
      "2021-09-23  4406.750000  4465.399902  4406.750000  4448.979980  4448.979980   \n",
      "2021-09-24  4438.040039  4463.120117  4430.270020  4455.479980  4455.479980   \n",
      "\n",
      "                Volume  \n",
      "Date                    \n",
      "2020-01-02  3458250000  \n",
      "2020-01-03  3461290000  \n",
      "2020-01-06  3674070000  \n",
      "2020-01-07  3420380000  \n",
      "2020-01-08  3720890000  \n",
      "...                ...  \n",
      "2021-09-20  3773680000  \n",
      "2021-09-21  3044300000  \n",
      "2021-09-22  3273670000  \n",
      "2021-09-23  2833290000  \n",
      "2021-09-24  2772090000  \n",
      "\n",
      "[437 rows x 6 columns]\n"
     ]
    }
   ],
   "metadata": {}
  },
  {
   "cell_type": "code",
   "execution_count": 90,
   "source": [
    "data.reset_index(inplace=True)\r\n",
    "data.columns\r\n",
    "print(data.columns)\r\n",
    "print()\r\n",
    "print(data)"
   ],
   "outputs": [
    {
     "output_type": "stream",
     "name": "stdout",
     "text": [
      "Index(['Date', 'Open', 'High', 'Low', 'Close', 'Adj Close', 'Volume'], dtype='object')\n",
      "\n",
      "          Date         Open         High          Low        Close  \\\n",
      "0   2020-01-02  3244.669922  3258.139893  3235.530029  3257.850098   \n",
      "1   2020-01-03  3226.360107  3246.149902  3222.340088  3234.850098   \n",
      "2   2020-01-06  3217.550049  3246.840088  3214.639893  3246.280029   \n",
      "3   2020-01-07  3241.860107  3244.909912  3232.429932  3237.179932   \n",
      "4   2020-01-08  3238.590088  3267.070068  3236.669922  3253.050049   \n",
      "..         ...          ...          ...          ...          ...   \n",
      "432 2021-09-20  4402.950195  4402.950195  4305.910156  4357.729980   \n",
      "433 2021-09-21  4374.450195  4394.870117  4347.959961  4354.189941   \n",
      "434 2021-09-22  4367.430176  4416.750000  4367.430176  4395.640137   \n",
      "435 2021-09-23  4406.750000  4465.399902  4406.750000  4448.979980   \n",
      "436 2021-09-24  4438.040039  4463.120117  4430.270020  4455.479980   \n",
      "\n",
      "       Adj Close      Volume  \n",
      "0    3257.850098  3458250000  \n",
      "1    3234.850098  3461290000  \n",
      "2    3246.280029  3674070000  \n",
      "3    3237.179932  3420380000  \n",
      "4    3253.050049  3720890000  \n",
      "..           ...         ...  \n",
      "432  4357.729980  3773680000  \n",
      "433  4354.189941  3044300000  \n",
      "434  4395.640137  3273670000  \n",
      "435  4448.979980  2833290000  \n",
      "436  4455.479980  2772090000  \n",
      "\n",
      "[437 rows x 7 columns]\n"
     ]
    }
   ],
   "metadata": {}
  },
  {
   "cell_type": "code",
   "execution_count": 91,
   "source": [
    "inc = data[\"Close\"] > data[\"Open\"]\r\n",
    "dec = data[\"Open\"] > data[\"Close\"]\r\n",
    "\r\n",
    "w = 12 * 60 * 60 * 1000  # trading time in ms\r\n",
    "\r\n",
    "TOOLS = \"pan,wheel_zoom,box_zoom,reset,save\""
   ],
   "outputs": [],
   "metadata": {}
  },
  {
   "cell_type": "code",
   "execution_count": 92,
   "source": [
    "p = figure(\r\n",
    "    x_axis_type=\"datetime\",\r\n",
    "    plot_width=1000,\r\n",
    "    tools=TOOLS,\r\n",
    "    title=stock_short_name + \" -  Candlestick Chart\",\r\n",
    ")\r\n",
    "# p.xaxis.major_label_orientation = pi / 4\r\n",
    "p.xaxis.major_label_orientation =np.deg2rad(45)\r\n",
    "p.grid.grid_line_alpha = 0.3"
   ],
   "outputs": [],
   "metadata": {}
  },
  {
   "cell_type": "code",
   "execution_count": 93,
   "source": [
    "p.segment(data[\"Date\"], data[\"High\"], data[\"Date\"], data[\"Low\"], color=\"black\")"
   ],
   "outputs": [
    {
     "output_type": "execute_result",
     "data": {
      "text/html": [
       "<div style=\"display: table;\"><div style=\"display: table-row;\"><div style=\"display: table-cell;\"><b title=\"bokeh.models.renderers.GlyphRenderer\">GlyphRenderer</b>(</div><div style=\"display: table-cell;\">id&nbsp;=&nbsp;'3129', <span id=\"3132\" style=\"cursor: pointer;\">&hellip;)</span></div></div><div class=\"3131\" style=\"display: none;\"><div style=\"display: table-cell;\"></div><div style=\"display: table-cell;\">coordinates&nbsp;=&nbsp;None,</div></div><div class=\"3131\" style=\"display: none;\"><div style=\"display: table-cell;\"></div><div style=\"display: table-cell;\">data_source&nbsp;=&nbsp;ColumnDataSource(id='3125', ...),</div></div><div class=\"3131\" style=\"display: none;\"><div style=\"display: table-cell;\"></div><div style=\"display: table-cell;\">glyph&nbsp;=&nbsp;Segment(id='3126', ...),</div></div><div class=\"3131\" style=\"display: none;\"><div style=\"display: table-cell;\"></div><div style=\"display: table-cell;\">group&nbsp;=&nbsp;None,</div></div><div class=\"3131\" style=\"display: none;\"><div style=\"display: table-cell;\"></div><div style=\"display: table-cell;\">hover_glyph&nbsp;=&nbsp;None,</div></div><div class=\"3131\" style=\"display: none;\"><div style=\"display: table-cell;\"></div><div style=\"display: table-cell;\">js_event_callbacks&nbsp;=&nbsp;{},</div></div><div class=\"3131\" style=\"display: none;\"><div style=\"display: table-cell;\"></div><div style=\"display: table-cell;\">js_property_callbacks&nbsp;=&nbsp;{},</div></div><div class=\"3131\" style=\"display: none;\"><div style=\"display: table-cell;\"></div><div style=\"display: table-cell;\">level&nbsp;=&nbsp;'glyph',</div></div><div class=\"3131\" style=\"display: none;\"><div style=\"display: table-cell;\"></div><div style=\"display: table-cell;\">muted&nbsp;=&nbsp;False,</div></div><div class=\"3131\" style=\"display: none;\"><div style=\"display: table-cell;\"></div><div style=\"display: table-cell;\">muted_glyph&nbsp;=&nbsp;Segment(id='3128', ...),</div></div><div class=\"3131\" style=\"display: none;\"><div style=\"display: table-cell;\"></div><div style=\"display: table-cell;\">name&nbsp;=&nbsp;None,</div></div><div class=\"3131\" style=\"display: none;\"><div style=\"display: table-cell;\"></div><div style=\"display: table-cell;\">nonselection_glyph&nbsp;=&nbsp;Segment(id='3127', ...),</div></div><div class=\"3131\" style=\"display: none;\"><div style=\"display: table-cell;\"></div><div style=\"display: table-cell;\">selection_glyph&nbsp;=&nbsp;'auto',</div></div><div class=\"3131\" style=\"display: none;\"><div style=\"display: table-cell;\"></div><div style=\"display: table-cell;\">subscribed_events&nbsp;=&nbsp;[],</div></div><div class=\"3131\" style=\"display: none;\"><div style=\"display: table-cell;\"></div><div style=\"display: table-cell;\">syncable&nbsp;=&nbsp;True,</div></div><div class=\"3131\" style=\"display: none;\"><div style=\"display: table-cell;\"></div><div style=\"display: table-cell;\">tags&nbsp;=&nbsp;[],</div></div><div class=\"3131\" style=\"display: none;\"><div style=\"display: table-cell;\"></div><div style=\"display: table-cell;\">view&nbsp;=&nbsp;CDSView(id='3130', ...),</div></div><div class=\"3131\" style=\"display: none;\"><div style=\"display: table-cell;\"></div><div style=\"display: table-cell;\">visible&nbsp;=&nbsp;True,</div></div><div class=\"3131\" style=\"display: none;\"><div style=\"display: table-cell;\"></div><div style=\"display: table-cell;\">x_range_name&nbsp;=&nbsp;'default',</div></div><div class=\"3131\" style=\"display: none;\"><div style=\"display: table-cell;\"></div><div style=\"display: table-cell;\">y_range_name&nbsp;=&nbsp;'default')</div></div></div>\n",
       "<script>\n",
       "(function() {\n",
       "  let expanded = false;\n",
       "  const ellipsis = document.getElementById(\"3132\");\n",
       "  ellipsis.addEventListener(\"click\", function() {\n",
       "    const rows = document.getElementsByClassName(\"3131\");\n",
       "    for (let i = 0; i < rows.length; i++) {\n",
       "      const el = rows[i];\n",
       "      el.style.display = expanded ? \"none\" : \"table-row\";\n",
       "    }\n",
       "    ellipsis.innerHTML = expanded ? \"&hellip;)\" : \"&lsaquo;&lsaquo;&lsaquo;\";\n",
       "    expanded = !expanded;\n",
       "  });\n",
       "})();\n",
       "</script>\n"
      ],
      "text/plain": [
       "GlyphRenderer(id='3129', ...)"
      ]
     },
     "metadata": {},
     "execution_count": 93
    }
   ],
   "metadata": {}
  },
  {
   "cell_type": "code",
   "execution_count": 94,
   "source": [
    "# p.segment(data[\"Date\"], data[\"High\"], data[\"Date\"], data[\"Low\"], color=\"black\")\r\n",
    "p.vbar(\r\n",
    "    data[\"Date\"][inc],\r\n",
    "    w,\r\n",
    "    data[\"Open\"][inc],\r\n",
    "    data[\"Close\"][inc],\r\n",
    "    fill_color=\"green\",\r\n",
    "    line_color=\"green\",\r\n",
    ")"
   ],
   "outputs": [
    {
     "output_type": "execute_result",
     "data": {
      "text/html": [
       "<div style=\"display: table;\"><div style=\"display: table-row;\"><div style=\"display: table-cell;\"><b title=\"bokeh.models.renderers.GlyphRenderer\">GlyphRenderer</b>(</div><div style=\"display: table-cell;\">id&nbsp;=&nbsp;'3137', <span id=\"3140\" style=\"cursor: pointer;\">&hellip;)</span></div></div><div class=\"3139\" style=\"display: none;\"><div style=\"display: table-cell;\"></div><div style=\"display: table-cell;\">coordinates&nbsp;=&nbsp;None,</div></div><div class=\"3139\" style=\"display: none;\"><div style=\"display: table-cell;\"></div><div style=\"display: table-cell;\">data_source&nbsp;=&nbsp;ColumnDataSource(id='3133', ...),</div></div><div class=\"3139\" style=\"display: none;\"><div style=\"display: table-cell;\"></div><div style=\"display: table-cell;\">glyph&nbsp;=&nbsp;VBar(id='3134', ...),</div></div><div class=\"3139\" style=\"display: none;\"><div style=\"display: table-cell;\"></div><div style=\"display: table-cell;\">group&nbsp;=&nbsp;None,</div></div><div class=\"3139\" style=\"display: none;\"><div style=\"display: table-cell;\"></div><div style=\"display: table-cell;\">hover_glyph&nbsp;=&nbsp;None,</div></div><div class=\"3139\" style=\"display: none;\"><div style=\"display: table-cell;\"></div><div style=\"display: table-cell;\">js_event_callbacks&nbsp;=&nbsp;{},</div></div><div class=\"3139\" style=\"display: none;\"><div style=\"display: table-cell;\"></div><div style=\"display: table-cell;\">js_property_callbacks&nbsp;=&nbsp;{},</div></div><div class=\"3139\" style=\"display: none;\"><div style=\"display: table-cell;\"></div><div style=\"display: table-cell;\">level&nbsp;=&nbsp;'glyph',</div></div><div class=\"3139\" style=\"display: none;\"><div style=\"display: table-cell;\"></div><div style=\"display: table-cell;\">muted&nbsp;=&nbsp;False,</div></div><div class=\"3139\" style=\"display: none;\"><div style=\"display: table-cell;\"></div><div style=\"display: table-cell;\">muted_glyph&nbsp;=&nbsp;VBar(id='3136', ...),</div></div><div class=\"3139\" style=\"display: none;\"><div style=\"display: table-cell;\"></div><div style=\"display: table-cell;\">name&nbsp;=&nbsp;None,</div></div><div class=\"3139\" style=\"display: none;\"><div style=\"display: table-cell;\"></div><div style=\"display: table-cell;\">nonselection_glyph&nbsp;=&nbsp;VBar(id='3135', ...),</div></div><div class=\"3139\" style=\"display: none;\"><div style=\"display: table-cell;\"></div><div style=\"display: table-cell;\">selection_glyph&nbsp;=&nbsp;'auto',</div></div><div class=\"3139\" style=\"display: none;\"><div style=\"display: table-cell;\"></div><div style=\"display: table-cell;\">subscribed_events&nbsp;=&nbsp;[],</div></div><div class=\"3139\" style=\"display: none;\"><div style=\"display: table-cell;\"></div><div style=\"display: table-cell;\">syncable&nbsp;=&nbsp;True,</div></div><div class=\"3139\" style=\"display: none;\"><div style=\"display: table-cell;\"></div><div style=\"display: table-cell;\">tags&nbsp;=&nbsp;[],</div></div><div class=\"3139\" style=\"display: none;\"><div style=\"display: table-cell;\"></div><div style=\"display: table-cell;\">view&nbsp;=&nbsp;CDSView(id='3138', ...),</div></div><div class=\"3139\" style=\"display: none;\"><div style=\"display: table-cell;\"></div><div style=\"display: table-cell;\">visible&nbsp;=&nbsp;True,</div></div><div class=\"3139\" style=\"display: none;\"><div style=\"display: table-cell;\"></div><div style=\"display: table-cell;\">x_range_name&nbsp;=&nbsp;'default',</div></div><div class=\"3139\" style=\"display: none;\"><div style=\"display: table-cell;\"></div><div style=\"display: table-cell;\">y_range_name&nbsp;=&nbsp;'default')</div></div></div>\n",
       "<script>\n",
       "(function() {\n",
       "  let expanded = false;\n",
       "  const ellipsis = document.getElementById(\"3140\");\n",
       "  ellipsis.addEventListener(\"click\", function() {\n",
       "    const rows = document.getElementsByClassName(\"3139\");\n",
       "    for (let i = 0; i < rows.length; i++) {\n",
       "      const el = rows[i];\n",
       "      el.style.display = expanded ? \"none\" : \"table-row\";\n",
       "    }\n",
       "    ellipsis.innerHTML = expanded ? \"&hellip;)\" : \"&lsaquo;&lsaquo;&lsaquo;\";\n",
       "    expanded = !expanded;\n",
       "  });\n",
       "})();\n",
       "</script>\n"
      ],
      "text/plain": [
       "GlyphRenderer(id='3137', ...)"
      ]
     },
     "metadata": {},
     "execution_count": 94
    }
   ],
   "metadata": {}
  },
  {
   "cell_type": "code",
   "execution_count": 95,
   "source": [
    "p.vbar(\r\n",
    "    data[\"Date\"][dec],\r\n",
    "    w,\r\n",
    "    data[\"Open\"][dec],\r\n",
    "    data[\"Close\"][dec],\r\n",
    "    fill_color=\"red\",\r\n",
    "    line_color=\"red\",\r\n",
    ")"
   ],
   "outputs": [
    {
     "output_type": "execute_result",
     "data": {
      "text/html": [
       "<div style=\"display: table;\"><div style=\"display: table-row;\"><div style=\"display: table-cell;\"><b title=\"bokeh.models.renderers.GlyphRenderer\">GlyphRenderer</b>(</div><div style=\"display: table-cell;\">id&nbsp;=&nbsp;'3145', <span id=\"3148\" style=\"cursor: pointer;\">&hellip;)</span></div></div><div class=\"3147\" style=\"display: none;\"><div style=\"display: table-cell;\"></div><div style=\"display: table-cell;\">coordinates&nbsp;=&nbsp;None,</div></div><div class=\"3147\" style=\"display: none;\"><div style=\"display: table-cell;\"></div><div style=\"display: table-cell;\">data_source&nbsp;=&nbsp;ColumnDataSource(id='3141', ...),</div></div><div class=\"3147\" style=\"display: none;\"><div style=\"display: table-cell;\"></div><div style=\"display: table-cell;\">glyph&nbsp;=&nbsp;VBar(id='3142', ...),</div></div><div class=\"3147\" style=\"display: none;\"><div style=\"display: table-cell;\"></div><div style=\"display: table-cell;\">group&nbsp;=&nbsp;None,</div></div><div class=\"3147\" style=\"display: none;\"><div style=\"display: table-cell;\"></div><div style=\"display: table-cell;\">hover_glyph&nbsp;=&nbsp;None,</div></div><div class=\"3147\" style=\"display: none;\"><div style=\"display: table-cell;\"></div><div style=\"display: table-cell;\">js_event_callbacks&nbsp;=&nbsp;{},</div></div><div class=\"3147\" style=\"display: none;\"><div style=\"display: table-cell;\"></div><div style=\"display: table-cell;\">js_property_callbacks&nbsp;=&nbsp;{},</div></div><div class=\"3147\" style=\"display: none;\"><div style=\"display: table-cell;\"></div><div style=\"display: table-cell;\">level&nbsp;=&nbsp;'glyph',</div></div><div class=\"3147\" style=\"display: none;\"><div style=\"display: table-cell;\"></div><div style=\"display: table-cell;\">muted&nbsp;=&nbsp;False,</div></div><div class=\"3147\" style=\"display: none;\"><div style=\"display: table-cell;\"></div><div style=\"display: table-cell;\">muted_glyph&nbsp;=&nbsp;VBar(id='3144', ...),</div></div><div class=\"3147\" style=\"display: none;\"><div style=\"display: table-cell;\"></div><div style=\"display: table-cell;\">name&nbsp;=&nbsp;None,</div></div><div class=\"3147\" style=\"display: none;\"><div style=\"display: table-cell;\"></div><div style=\"display: table-cell;\">nonselection_glyph&nbsp;=&nbsp;VBar(id='3143', ...),</div></div><div class=\"3147\" style=\"display: none;\"><div style=\"display: table-cell;\"></div><div style=\"display: table-cell;\">selection_glyph&nbsp;=&nbsp;'auto',</div></div><div class=\"3147\" style=\"display: none;\"><div style=\"display: table-cell;\"></div><div style=\"display: table-cell;\">subscribed_events&nbsp;=&nbsp;[],</div></div><div class=\"3147\" style=\"display: none;\"><div style=\"display: table-cell;\"></div><div style=\"display: table-cell;\">syncable&nbsp;=&nbsp;True,</div></div><div class=\"3147\" style=\"display: none;\"><div style=\"display: table-cell;\"></div><div style=\"display: table-cell;\">tags&nbsp;=&nbsp;[],</div></div><div class=\"3147\" style=\"display: none;\"><div style=\"display: table-cell;\"></div><div style=\"display: table-cell;\">view&nbsp;=&nbsp;CDSView(id='3146', ...),</div></div><div class=\"3147\" style=\"display: none;\"><div style=\"display: table-cell;\"></div><div style=\"display: table-cell;\">visible&nbsp;=&nbsp;True,</div></div><div class=\"3147\" style=\"display: none;\"><div style=\"display: table-cell;\"></div><div style=\"display: table-cell;\">x_range_name&nbsp;=&nbsp;'default',</div></div><div class=\"3147\" style=\"display: none;\"><div style=\"display: table-cell;\"></div><div style=\"display: table-cell;\">y_range_name&nbsp;=&nbsp;'default')</div></div></div>\n",
       "<script>\n",
       "(function() {\n",
       "  let expanded = false;\n",
       "  const ellipsis = document.getElementById(\"3148\");\n",
       "  ellipsis.addEventListener(\"click\", function() {\n",
       "    const rows = document.getElementsByClassName(\"3147\");\n",
       "    for (let i = 0; i < rows.length; i++) {\n",
       "      const el = rows[i];\n",
       "      el.style.display = expanded ? \"none\" : \"table-row\";\n",
       "    }\n",
       "    ellipsis.innerHTML = expanded ? \"&hellip;)\" : \"&lsaquo;&lsaquo;&lsaquo;\";\n",
       "    expanded = !expanded;\n",
       "  });\n",
       "})();\n",
       "</script>\n"
      ],
      "text/plain": [
       "GlyphRenderer(id='3145', ...)"
      ]
     },
     "metadata": {},
     "execution_count": 95
    }
   ],
   "metadata": {}
  },
  {
   "cell_type": "code",
   "execution_count": 96,
   "source": [
    "show(p)"
   ],
   "outputs": [
    {
     "output_type": "display_data",
     "data": {
      "text/html": [
       "\n",
       "\n",
       "\n",
       "\n",
       "\n",
       "\n",
       "  <div class=\"bk-root\" id=\"7d8e50fb-4eb2-4637-acb5-5370167966d6\" data-root-id=\"3094\"></div>\n"
      ]
     },
     "metadata": {}
    },
    {
     "output_type": "display_data",
     "data": {
      "application/javascript": "(function(root) {\n  function embed_document(root) {\n    \n  const docs_json = {\"4322a243-e925-4acb-9d8a-a686c2cda5a5\":{\"defs\":[],\"roots\":{\"references\":[{\"attributes\":{\"below\":[{\"id\":\"3105\"}],\"center\":[{\"id\":\"3108\"},{\"id\":\"3112\"}],\"left\":[{\"id\":\"3109\"}],\"renderers\":[{\"id\":\"3129\"},{\"id\":\"3137\"},{\"id\":\"3145\"}],\"title\":{\"id\":\"3095\"},\"toolbar\":{\"id\":\"3119\"},\"width\":1000,\"x_range\":{\"id\":\"3097\"},\"x_scale\":{\"id\":\"3101\"},\"y_range\":{\"id\":\"3099\"},\"y_scale\":{\"id\":\"3103\"}},\"id\":\"3094\",\"subtype\":\"Figure\",\"type\":\"Plot\"},{\"attributes\":{},\"id\":\"3113\",\"type\":\"PanTool\"},{\"attributes\":{},\"id\":\"3335\",\"type\":\"BasicTickFormatter\"},{\"attributes\":{\"base\":60,\"mantissas\":[1,2,5,10,15,20,30],\"max_interval\":1800000.0,\"min_interval\":1000.0,\"num_minor_ticks\":0},\"id\":\"3348\",\"type\":\"AdaptiveTicker\"},{\"attributes\":{\"source\":{\"id\":\"3133\"}},\"id\":\"3138\",\"type\":\"CDSView\"},{\"attributes\":{},\"id\":\"3338\",\"type\":\"DatetimeTickFormatter\"},{\"attributes\":{\"data\":{\"bottom\":{\"__ndarray__\":\"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\",\"dtype\":\"float64\",\"order\":\"little\",\"shape\":[191]},\"top\":{\"__ndarray__\":\"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\",\"dtype\":\"float64\",\"order\":\"little\",\"shape\":[191]},\"x\":{\"__ndarray__\":\"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\",\"dtype\":\"float64\",\"order\":\"little\",\"shape\":[191]}},\"selected\":{\"id\":\"3345\"},\"selection_policy\":{\"id\":\"3344\"}},\"id\":\"3141\",\"type\":\"ColumnDataSource\"},{\"attributes\":{\"line_alpha\":{\"value\":0.1},\"x0\":{\"field\":\"x0\"},\"x1\":{\"field\":\"x1\"},\"y0\":{\"field\":\"y0\"},\"y1\":{\"field\":\"y1\"}},\"id\":\"3127\",\"type\":\"Segment\"},{\"attributes\":{\"mantissas\":[1,2,5],\"max_interval\":500.0,\"num_minor_ticks\":0},\"id\":\"3347\",\"type\":\"AdaptiveTicker\"},{\"attributes\":{\"base\":24,\"mantissas\":[1,2,4,6,8,12],\"max_interval\":43200000.0,\"min_interval\":3600000.0,\"num_minor_ticks\":0},\"id\":\"3349\",\"type\":\"AdaptiveTicker\"},{\"attributes\":{\"line_alpha\":{\"value\":0.2},\"x0\":{\"field\":\"x0\"},\"x1\":{\"field\":\"x1\"},\"y0\":{\"field\":\"y0\"},\"y1\":{\"field\":\"y1\"}},\"id\":\"3128\",\"type\":\"Segment\"},{\"attributes\":{\"months\":[0,1,2,3,4,5,6,7,8,9,10,11]},\"id\":\"3354\",\"type\":\"MonthsTicker\"},{\"attributes\":{\"bottom\":{\"field\":\"bottom\"},\"fill_color\":{\"value\":\"red\"},\"line_color\":{\"value\":\"red\"},\"top\":{\"field\":\"top\"},\"width\":{\"value\":43200000},\"x\":{\"field\":\"x\"}},\"id\":\"3142\",\"type\":\"VBar\"},{\"attributes\":{\"coordinates\":null,\"formatter\":{\"id\":\"3335\"},\"group\":null,\"major_label_policy\":{\"id\":\"3336\"},\"ticker\":{\"id\":\"3110\"}},\"id\":\"3109\",\"type\":\"LinearAxis\"},{\"attributes\":{},\"id\":\"3339\",\"type\":\"AllLabels\"},{\"attributes\":{\"days\":[1,15]},\"id\":\"3353\",\"type\":\"DaysTicker\"},{\"attributes\":{\"days\":[1,2,3,4,5,6,7,8,9,10,11,12,13,14,15,16,17,18,19,20,21,22,23,24,25,26,27,28,29,30,31]},\"id\":\"3350\",\"type\":\"DaysTicker\"},{\"attributes\":{\"source\":{\"id\":\"3141\"}},\"id\":\"3146\",\"type\":\"CDSView\"},{\"attributes\":{},\"id\":\"3110\",\"type\":\"BasicTicker\"},{\"attributes\":{\"days\":[1,4,7,10,13,16,19,22,25,28]},\"id\":\"3351\",\"type\":\"DaysTicker\"},{\"attributes\":{\"days\":[1,8,15,22]},\"id\":\"3352\",\"type\":\"DaysTicker\"},{\"attributes\":{\"bottom\":{\"field\":\"bottom\"},\"fill_alpha\":{\"value\":0.1},\"fill_color\":{\"value\":\"red\"},\"hatch_alpha\":{\"value\":0.1},\"line_alpha\":{\"value\":0.1},\"line_color\":{\"value\":\"red\"},\"top\":{\"field\":\"top\"},\"width\":{\"value\":43200000},\"x\":{\"field\":\"x\"}},\"id\":\"3143\",\"type\":\"VBar\"},{\"attributes\":{\"bottom\":{\"field\":\"bottom\"},\"fill_alpha\":{\"value\":0.2},\"fill_color\":{\"value\":\"green\"},\"hatch_alpha\":{\"value\":0.2},\"line_alpha\":{\"value\":0.2},\"line_color\":{\"value\":\"green\"},\"top\":{\"field\":\"top\"},\"width\":{\"value\":43200000},\"x\":{\"field\":\"x\"}},\"id\":\"3136\",\"type\":\"VBar\"},{\"attributes\":{},\"id\":\"3114\",\"type\":\"WheelZoomTool\"},{\"attributes\":{},\"id\":\"3097\",\"type\":\"DataRange1d\"},{\"attributes\":{\"months\":[0,2,4,6,8,10]},\"id\":\"3355\",\"type\":\"MonthsTicker\"},{\"attributes\":{\"months\":[0,6]},\"id\":\"3357\",\"type\":\"MonthsTicker\"},{\"attributes\":{\"bottom\":{\"field\":\"bottom\"},\"fill_alpha\":{\"value\":0.2},\"fill_color\":{\"value\":\"red\"},\"hatch_alpha\":{\"value\":0.2},\"line_alpha\":{\"value\":0.2},\"line_color\":{\"value\":\"red\"},\"top\":{\"field\":\"top\"},\"width\":{\"value\":43200000},\"x\":{\"field\":\"x\"}},\"id\":\"3144\",\"type\":\"VBar\"},{\"attributes\":{\"bottom\":{\"field\":\"bottom\"},\"fill_alpha\":{\"value\":0.1},\"fill_color\":{\"value\":\"green\"},\"hatch_alpha\":{\"value\":0.1},\"line_alpha\":{\"value\":0.1},\"line_color\":{\"value\":\"green\"},\"top\":{\"field\":\"top\"},\"width\":{\"value\":43200000},\"x\":{\"field\":\"x\"}},\"id\":\"3135\",\"type\":\"VBar\"},{\"attributes\":{},\"id\":\"3117\",\"type\":\"SaveTool\"},{\"attributes\":{\"months\":[0,4,8]},\"id\":\"3356\",\"type\":\"MonthsTicker\"},{\"attributes\":{},\"id\":\"3344\",\"type\":\"UnionRenderers\"},{\"attributes\":{\"overlay\":{\"id\":\"3118\"}},\"id\":\"3115\",\"type\":\"BoxZoomTool\"},{\"attributes\":{},\"id\":\"3340\",\"type\":\"UnionRenderers\"},{\"attributes\":{},\"id\":\"3336\",\"type\":\"AllLabels\"},{\"attributes\":{},\"id\":\"3345\",\"type\":\"Selection\"},{\"attributes\":{\"coordinates\":null,\"data_source\":{\"id\":\"3141\"},\"glyph\":{\"id\":\"3142\"},\"group\":null,\"hover_glyph\":null,\"muted_glyph\":{\"id\":\"3144\"},\"nonselection_glyph\":{\"id\":\"3143\"},\"view\":{\"id\":\"3146\"}},\"id\":\"3145\",\"type\":\"GlyphRenderer\"},{\"attributes\":{\"bottom\":{\"field\":\"bottom\"},\"fill_color\":{\"value\":\"green\"},\"line_color\":{\"value\":\"green\"},\"top\":{\"field\":\"top\"},\"width\":{\"value\":43200000},\"x\":{\"field\":\"x\"}},\"id\":\"3134\",\"type\":\"VBar\"},{\"attributes\":{},\"id\":\"3341\",\"type\":\"Selection\"},{\"attributes\":{\"data\":{\"x0\":{\"__ndarray__\":\"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\",\"dtype\":\"float64\",\"order\":\"little\",\"shape\":[437]},\"x1\":{\"__ndarray__\":\"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\",\"dtype\":\"float64\",\"order\":\"little\",\"shape\":[437]},\"y0\":{\"__ndarray__\":\"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\",\"dtype\":\"float64\",\"order\":\"little\",\"shape\":[437]},\"y1\":{\"__ndarray__\":\"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\",\"dtype\":\"float64\",\"order\":\"little\",\"shape\":[437]}},\"selected\":{\"id\":\"3341\"},\"selection_policy\":{\"id\":\"3340\"}},\"id\":\"3125\",\"type\":\"ColumnDataSource\"},{\"attributes\":{},\"id\":\"3099\",\"type\":\"DataRange1d\"},{\"attributes\":{\"axis\":{\"id\":\"3109\"},\"coordinates\":null,\"dimension\":1,\"grid_line_alpha\":0.3,\"group\":null,\"ticker\":null},\"id\":\"3112\",\"type\":\"Grid\"},{\"attributes\":{\"source\":{\"id\":\"3125\"}},\"id\":\"3130\",\"type\":\"CDSView\"},{\"attributes\":{\"coordinates\":null,\"group\":null,\"text\":\"S&P 500 -  Candlestick Chart\"},\"id\":\"3095\",\"type\":\"Title\"},{\"attributes\":{},\"id\":\"3101\",\"type\":\"LinearScale\"},{\"attributes\":{\"tools\":[{\"id\":\"3113\"},{\"id\":\"3114\"},{\"id\":\"3115\"},{\"id\":\"3116\"},{\"id\":\"3117\"}]},\"id\":\"3119\",\"type\":\"Toolbar\"},{\"attributes\":{\"coordinates\":null,\"data_source\":{\"id\":\"3125\"},\"glyph\":{\"id\":\"3126\"},\"group\":null,\"hover_glyph\":null,\"muted_glyph\":{\"id\":\"3128\"},\"nonselection_glyph\":{\"id\":\"3127\"},\"view\":{\"id\":\"3130\"}},\"id\":\"3129\",\"type\":\"GlyphRenderer\"},{\"attributes\":{\"bottom_units\":\"screen\",\"coordinates\":null,\"fill_alpha\":0.5,\"fill_color\":\"lightgrey\",\"group\":null,\"left_units\":\"screen\",\"level\":\"overlay\",\"line_alpha\":1.0,\"line_color\":\"black\",\"line_dash\":[4,4],\"line_width\":2,\"right_units\":\"screen\",\"syncable\":false,\"top_units\":\"screen\"},\"id\":\"3118\",\"type\":\"BoxAnnotation\"},{\"attributes\":{},\"id\":\"3103\",\"type\":\"LinearScale\"},{\"attributes\":{\"x0\":{\"field\":\"x0\"},\"x1\":{\"field\":\"x1\"},\"y0\":{\"field\":\"y0\"},\"y1\":{\"field\":\"y1\"}},\"id\":\"3126\",\"type\":\"Segment\"},{\"attributes\":{\"axis\":{\"id\":\"3105\"},\"coordinates\":null,\"grid_line_alpha\":0.3,\"group\":null,\"ticker\":null},\"id\":\"3108\",\"type\":\"Grid\"},{\"attributes\":{\"data\":{\"bottom\":{\"__ndarray__\":\"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\",\"dtype\":\"float64\",\"order\":\"little\",\"shape\":[246]},\"top\":{\"__ndarray__\":\"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\",\"dtype\":\"float64\",\"order\":\"little\",\"shape\":[246]},\"x\":{\"__ndarray__\":\"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\",\"dtype\":\"float64\",\"order\":\"little\",\"shape\":[246]}},\"selected\":{\"id\":\"3343\"},\"selection_policy\":{\"id\":\"3342\"}},\"id\":\"3133\",\"type\":\"ColumnDataSource\"},{\"attributes\":{},\"id\":\"3342\",\"type\":\"UnionRenderers\"},{\"attributes\":{\"num_minor_ticks\":5,\"tickers\":[{\"id\":\"3347\"},{\"id\":\"3348\"},{\"id\":\"3349\"},{\"id\":\"3350\"},{\"id\":\"3351\"},{\"id\":\"3352\"},{\"id\":\"3353\"},{\"id\":\"3354\"},{\"id\":\"3355\"},{\"id\":\"3356\"},{\"id\":\"3357\"},{\"id\":\"3358\"}]},\"id\":\"3106\",\"type\":\"DatetimeTicker\"},{\"attributes\":{},\"id\":\"3343\",\"type\":\"Selection\"},{\"attributes\":{\"coordinates\":null,\"data_source\":{\"id\":\"3133\"},\"glyph\":{\"id\":\"3134\"},\"group\":null,\"hover_glyph\":null,\"muted_glyph\":{\"id\":\"3136\"},\"nonselection_glyph\":{\"id\":\"3135\"},\"view\":{\"id\":\"3138\"}},\"id\":\"3137\",\"type\":\"GlyphRenderer\"},{\"attributes\":{},\"id\":\"3358\",\"type\":\"YearsTicker\"},{\"attributes\":{\"coordinates\":null,\"formatter\":{\"id\":\"3338\"},\"group\":null,\"major_label_orientation\":0.7853981633974483,\"major_label_policy\":{\"id\":\"3339\"},\"ticker\":{\"id\":\"3106\"}},\"id\":\"3105\",\"type\":\"DatetimeAxis\"},{\"attributes\":{},\"id\":\"3116\",\"type\":\"ResetTool\"}],\"root_ids\":[\"3094\"]},\"title\":\"Bokeh Application\",\"version\":\"2.4.0\"}};\n  const render_items = [{\"docid\":\"4322a243-e925-4acb-9d8a-a686c2cda5a5\",\"root_ids\":[\"3094\"],\"roots\":{\"3094\":\"7d8e50fb-4eb2-4637-acb5-5370167966d6\"}}];\n  root.Bokeh.embed.embed_items_notebook(docs_json, render_items);\n\n  }\n  if (root.Bokeh !== undefined) {\n    embed_document(root);\n  } else {\n    let attempts = 0;\n    const timer = setInterval(function(root) {\n      if (root.Bokeh !== undefined) {\n        clearInterval(timer);\n        embed_document(root);\n      } else {\n        attempts++;\n        if (attempts > 100) {\n          clearInterval(timer);\n          console.log(\"Bokeh: ERROR: Unable to run BokehJS code because BokehJS library is missing\");\n        }\n      }\n    }, 10, root)\n  }\n})(window);",
      "application/vnd.bokehjs_exec.v0+json": ""
     },
     "metadata": {
      "application/vnd.bokehjs_exec.v0+json": {
       "id": "3094"
      }
     }
    }
   ],
   "metadata": {}
  }
 ],
 "metadata": {
  "orig_nbformat": 4,
  "language_info": {
   "name": "python",
   "version": "3.9.4",
   "mimetype": "text/x-python",
   "codemirror_mode": {
    "name": "ipython",
    "version": 3
   },
   "pygments_lexer": "ipython3",
   "nbconvert_exporter": "python",
   "file_extension": ".py"
  },
  "kernelspec": {
   "name": "python3",
   "display_name": "Python 3.9.4 64-bit"
  },
  "interpreter": {
   "hash": "0fa967826f0dff7bf43157b69b27c7e94f9cd8758e5f7e883b18ae704008f0e9"
  }
 },
 "nbformat": 4,
 "nbformat_minor": 2
}