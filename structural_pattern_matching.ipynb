{
 "cells": [
  {
   "cell_type": "markdown",
   "metadata": {},
   "source": [
    "# [Structural Pattern Matching Documentation - Python 3.10](https://www.python.org/dev/peps/pep-0634/)"
   ]
  },
  {
   "cell_type": "code",
   "execution_count": 24,
   "metadata": {},
   "outputs": [
    {
     "name": "stdout",
     "output_type": "stream",
     "text": [
      "quit\n",
      "reset\n",
      "the following is not a legal command: '*** this is not a command - where did this come from? ***'\n"
     ]
    }
   ],
   "source": [
    "def has_guessed_correctly(command):\n",
    "    match command:\n",
    "        case \"quit\":\n",
    "            print(\"quit\")\n",
    "        case \"reset\":\n",
    "            print(\"reset\")\n",
    "        case unknown_command:\n",
    "            print (f\"the following is not a legal command: '{unknown_command}'\")\n",
    "    # print(command)\n",
    "\n",
    "has_guessed_correctly('quit')\n",
    "has_guessed_correctly('reset')\n",
    "has_guessed_correctly('*** this is not a command - where did this come from? ***')"
   ]
  }
 ],
 "metadata": {
  "interpreter": {
   "hash": "288070398f45af6aae33d529c7e9db1ce79ecc667978a0f3e9983dc28be894b0"
  },
  "kernelspec": {
   "display_name": "Python 3.10.0 64-bit",
   "name": "python3"
  },
  "language_info": {
   "codemirror_mode": {
    "name": "ipython",
    "version": 3
   },
   "file_extension": ".py",
   "mimetype": "text/x-python",
   "name": "python",
   "nbconvert_exporter": "python",
   "pygments_lexer": "ipython3",
   "version": "3.10.0"
  },
  "orig_nbformat": 4
 },
 "nbformat": 4,
 "nbformat_minor": 2
}
