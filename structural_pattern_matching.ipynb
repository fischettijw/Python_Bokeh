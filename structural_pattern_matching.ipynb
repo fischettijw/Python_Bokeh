{
 "cells": [
  {
   "cell_type": "code",
   "execution_count": null,
   "metadata": {},
   "outputs": [],
   "source": [
    "def has_guessed_correctly(mystery_number,guess):\n",
    "    match mystery_number:\n",
    "        case ==guess:\n",
    "            \n",
    "\n",
    "\n"
   ]
  }
 ],
 "metadata": {
  "interpreter": {
   "hash": "288070398f45af6aae33d529c7e9db1ce79ecc667978a0f3e9983dc28be894b0"
  },
  "kernelspec": {
   "display_name": "Python 3.10.0 64-bit",
   "name": "python3"
  },
  "language_info": {
   "name": "python",
   "version": "3.10.0"
  },
  "orig_nbformat": 4
 },
 "nbformat": 4,
 "nbformat_minor": 2
}
